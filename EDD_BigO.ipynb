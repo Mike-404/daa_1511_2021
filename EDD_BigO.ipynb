{
  "nbformat": 4,
  "nbformat_minor": 0,
  "metadata": {
    "colab": {
      "name": "EDD_BigO.ipynb",
      "provenance": [],
      "authorship_tag": "ABX9TyMexYU6zrH8bAazzGDfKTGv",
      "include_colab_link": true
    },
    "kernelspec": {
      "name": "python3",
      "display_name": "Python 3"
    },
    "language_info": {
      "name": "python"
    }
  },
  "cells": [
    {
      "cell_type": "markdown",
      "metadata": {
        "id": "view-in-github",
        "colab_type": "text"
      },
      "source": [
        "<a href=\"https://colab.research.google.com/github/Mike-404/daa_1511_2021/blob/main/EDD_BigO.ipynb\" target=\"_parent\"><img src=\"https://colab.research.google.com/assets/colab-badge.svg\" alt=\"Open In Colab\"/></a>"
      ]
    },
    {
      "cell_type": "code",
      "metadata": {
        "id": "TPn9zWmgEgkz"
      },
      "source": [
        "class NodoArbol:\n",
        "    def __init__( self, value, left = None, rigth = None):\n",
        "        self.data = value\n",
        "        self.left = left\n",
        "        self.rigth = rigth\n",
        "\n",
        "class  Arbol100:\n",
        "     def __init__( self ):\n",
        "         pass       "
      ],
      "execution_count": 2,
      "outputs": []
    },
    {
      "cell_type": "code",
      "metadata": {
        "colab": {
          "base_uri": "https://localhost:8080/"
        },
        "id": "k9f_D1aLMZ7h",
        "outputId": "e36f08c4-fc05-4c3f-821c-32dce6ec42d4"
      },
      "source": [
        "raiz = NodoArbol(60, None, None)\n",
        "raiz.left = NodoArbol(40, None, None)\n",
        "print(raiz.left.data)\n",
        "\n",
        "#como programador ninja\n",
        "\n",
        "raiz = NodoArbol(60, NodoArbol(40), None)\n",
        "print(raiz.left.data)\n",
        "\n",
        "raiz = NodoArbol(60, NodoArbol(40, NodoArbol(30)), NodoArbol(70))\n",
        "print(raiz.left.left.data)"
      ],
      "execution_count": 7,
      "outputs": [
        {
          "output_type": "stream",
          "name": "stdout",
          "text": [
            "40\n",
            "40\n",
            "30\n"
          ]
        }
      ]
    },
    {
      "cell_type": "code",
      "metadata": {
        "id": "AQFz9lOuMaxJ"
      },
      "source": [
        "\n"
      ],
      "execution_count": null,
      "outputs": []
    }
  ]
}