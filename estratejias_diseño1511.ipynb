{
  "nbformat": 4,
  "nbformat_minor": 0,
  "metadata": {
    "colab": {
      "name": "estratejias_diseño1511.ipynb",
      "provenance": [],
      "authorship_tag": "ABX9TyPYQdOeGk2TLrMkGfpkY5Ej",
      "include_colab_link": true
    },
    "kernelspec": {
      "name": "python3",
      "display_name": "Python 3"
    },
    "language_info": {
      "name": "python"
    }
  },
  "cells": [
    {
      "cell_type": "markdown",
      "metadata": {
        "id": "view-in-github",
        "colab_type": "text"
      },
      "source": [
        "<a href=\"https://colab.research.google.com/github/Mike-404/daa_1511_2021/blob/main/estratejias_dise%C3%B1o1511.ipynb\" target=\"_parent\"><img src=\"https://colab.research.google.com/assets/colab-badge.svg\" alt=\"Open In Colab\"/></a>"
      ]
    },
    {
      "cell_type": "code",
      "metadata": {
        "colab": {
          "base_uri": "https://localhost:8080/"
        },
        "id": "yVqK9qruWC7f",
        "outputId": "b2055893-a2c1-4bbe-eb1b-4ecdb81647eb"
      },
      "source": [
        "def string_match_brute(A , P):\n",
        "   \n",
        "   for i in range(len(A) - len(P) + 1):\n",
        "      for j in range(len(P)):\n",
        "          if P[j] == A[ i + j ]:\n",
        "              pass\n",
        "          else:\n",
        "              break\n",
        "      if j+1 == len(P) and A[ i + j ] == P[j]:\n",
        "        print(f\"se encontro en la posicion: {i}\")\n",
        "         \n",
        "\n",
        "\n",
        "\n",
        "entrada =\"101010101010111\"\n",
        "patron = \"111\"\n",
        "string_match_brute(entrada, patron)                    "
      ],
      "execution_count": 1,
      "outputs": [
        {
          "output_type": "stream",
          "name": "stdout",
          "text": [
            "se encontro en la posicion: 12\n"
          ]
        }
      ]
    }
  ]
}