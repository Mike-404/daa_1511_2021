{
  "nbformat": 4,
  "nbformat_minor": 0,
  "metadata": {
    "colab": {
      "name": "EDD_BigO_1511.ipynb",
      "provenance": [],
      "authorship_tag": "ABX9TyN+LuYpz1XDayNpnCrbL9JP",
      "include_colab_link": true
    },
    "kernelspec": {
      "name": "python3",
      "display_name": "Python 3"
    },
    "language_info": {
      "name": "python"
    }
  },
  "cells": [
    {
      "cell_type": "markdown",
      "metadata": {
        "id": "view-in-github",
        "colab_type": "text"
      },
      "source": [
        "<a href=\"https://colab.research.google.com/github/Mike-404/daa_1511_2021/blob/main/EDD_BigO_1511.ipynb\" target=\"_parent\"><img src=\"https://colab.research.google.com/assets/colab-badge.svg\" alt=\"Open In Colab\"/></a>"
      ]
    },
    {
      "cell_type": "code",
      "metadata": {
        "id": "TPn9zWmgEgkz"
      },
      "source": [
        "class NodoArbol:\n",
        "    def __init__( self, value, left = None, rigth = None):\n",
        "        self.data = value\n",
        "        self.left = left\n",
        "        self.rigth = rigth\n",
        "\n",
        "class  ArbolBB:\n",
        "     def __init__( self ):\n",
        "         self.__root = None\n",
        "\n",
        "     def insert(self, value):\n",
        "         if self.__root == None:\n",
        "            self.__root = NodoArbol(value)\n",
        "         else:\n",
        "             self.__insert_nodo__( self.__root, value )\n",
        "       \n",
        "     def __insert_nodo__(self, nodo, value):\n",
        "         if nodo.data == value:\n",
        "            print(\"ya existe\")\n",
        "            pass\n",
        "         elif value < nodo.data:\n",
        "              if nodo.left == None:\n",
        "                 nodo.left = NodoArbol(value)\n",
        "              else:\n",
        "                  self.__insert_nodo__(nodo.left, value)\n",
        "         else: \n",
        "             if nodo.rigth == None:\n",
        "                nodo.rigth = NodoArbol(value)\n",
        "             else:\n",
        "                 self.__insert_nodo__(nodo.rigth, value)             \n",
        "                    \n",
        "     def transversal(self, formato = \"inorden\"):\n",
        "         if formato == \"inorden\":\n",
        "            print(\"inorden\")\n",
        "            self.recorrido_in(self.__root)\n",
        "            print()\n",
        "         elif formato == \"preorden\":\n",
        "              print(\"preorden\")\n",
        "              self.recorrido_pre(self.__root)\n",
        "              print() \n",
        "         else:\n",
        "             print(\"pos orden\")\n",
        "             self.recorrido_pos(self.__root) \n",
        "             print()               \n",
        "     \n",
        "     def recorrido_in(self, nodo):\n",
        "         if nodo != None:\n",
        "            self.recorrido_in(nodo.left)\n",
        "            print(nodo.data, end =\"  \")\n",
        "            self.recorrido_in(nodo.rigth)\n",
        "                \n",
        "     def recorrido_pre(self, nodo):\n",
        "         if nodo != None:\n",
        "            print(nodo.data, end =\"  \")\n",
        "            self.recorrido_pre(nodo.left)\n",
        "            self.recorrido_pre(nodo.rigth)\n",
        "\n",
        "     def recorrido_pos(self, nodo):\n",
        "         if nodo != None:\n",
        "           \n",
        "            self.recorrido_pos(nodo.left)\n",
        "            self.recorrido_pos(nodo.rigth) \n",
        "            print(nodo.data, end =\"  \")  \n",
        "\n",
        "     def buscar(self, value):\n",
        "         if self.__root == None:\n",
        "            print(\"Arbol vacio\")\n",
        "            return None \n",
        "         else:\n",
        "             return self.busca_nodo(self.__root, value)\n",
        "\n",
        "     def busca_nodo(self, nodo, value):\n",
        "         if nodo == None:\n",
        "           # print(\"No existe\")\n",
        "            return \"no existe el valor\" \n",
        "         elif nodo.data == value:\n",
        "              print(\"Encontrado\", nodo.data)\n",
        "              return nodo\n",
        "         elif value < nodo.data:\n",
        "              #print(\"Buscar del lado izquierdo\")\n",
        "              return self.busca_nodo(nodo.left, value)     \n",
        "         else:           \n",
        "              #print(\"Buscar lado derecho\")\n",
        "              return self.busca_nodo(nodo.rigth, value)\n",
        "\n"
      ],
      "execution_count": 17,
      "outputs": []
    },
    {
      "cell_type": "code",
      "metadata": {
        "colab": {
          "base_uri": "https://localhost:8080/"
        },
        "id": "vMsg7uBZbBVk",
        "outputId": "f03d550d-7da5-49ec-a560-3b20b17ac04a"
      },
      "source": [
        "abb = ArbolBB()\n",
        "\n",
        "abb.insert(55)\n",
        "abb.insert(14)\n",
        "abb.insert(27)\n",
        "abb.insert(15)\n",
        "abb.insert(21)\n",
        "abb.insert(80)\n",
        "abb.insert(27)\n",
        "\n",
        "\"\"\"\n",
        "abb.insert(6)\n",
        "abb.insert(3)\n",
        "abb.insert(8)\n",
        "\"\"\"\n",
        "abb.transversal(\"inorden\")\n",
        "abb.transversal(\"preorden\")\n",
        "abb.transversal(\"pos orden\")\n",
        "res = abb.buscar(27)\n",
        "\n",
        "print(\"Resultado:\", res.left.data )\n",
        "print(\"Resultado:\", res.rigth )\n",
        "\n"
      ],
      "execution_count": 21,
      "outputs": [
        {
          "output_type": "stream",
          "name": "stdout",
          "text": [
            "ya existe\n",
            "inorden\n",
            "14  15  21  27  55  80  \n",
            "preorden\n",
            "55  14  27  15  21  80  \n",
            "pos orden\n",
            "21  15  27  14  80  55  \n",
            "Encontrado 27\n",
            "Resultado: 15\n",
            "Resultado: None\n"
          ]
        }
      ]
    },
    {
      "cell_type": "code",
      "metadata": {
        "colab": {
          "base_uri": "https://localhost:8080/"
        },
        "id": "k9f_D1aLMZ7h",
        "outputId": "318062ed-fa70-46aa-ad95-fd25016f296d"
      },
      "source": [
        "raiz = NodoArbol(60, None, None)\n",
        "raiz.left = NodoArbol(40, None, None)\n",
        "print(raiz.left.data)\n",
        "\n",
        "#como programador ninja\n",
        "\n",
        "raiz = NodoArbol(60, NodoArbol(40), None)\n",
        "print(raiz.left.data)\n",
        "\n",
        "raiz = NodoArbol(60, NodoArbol(40, NodoArbol(30)), NodoArbol(70))\n",
        "print(raiz.left.left.data)\n",
        "\n",
        "\n",
        "#imprimir el hijo mas a la izquierda \n",
        "\n",
        "curr_node = raiz \n",
        "while curr_node.left != None:\n",
        "      curr_node = curr_node.left\n",
        "print(curr_node.data)      "
      ],
      "execution_count": 29,
      "outputs": [
        {
          "output_type": "stream",
          "name": "stdout",
          "text": [
            "40\n",
            "40\n",
            "30\n",
            "30\n"
          ]
        }
      ]
    },
    {
      "cell_type": "code",
      "metadata": {
        "id": "AQFz9lOuMaxJ"
      },
      "source": [
        "\n"
      ],
      "execution_count": null,
      "outputs": []
    }
  ]
}